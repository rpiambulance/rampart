{
 "cells": [
  {
   "cell_type": "code",
   "execution_count": 16,
   "metadata": {},
   "outputs": [
    {
     "name": "stdout",
     "output_type": "stream",
     "text": [
      "{'msg': 'user successfully created'}\n"
     ]
    }
   ],
   "source": [
    "import requests\n",
    "import json\n",
    "import pprint\n",
    "\n",
    "url = 'http://express_backend:3000/users/'\n",
    "headers = {'content-type': 'application/json'}\n",
    "info = {\n",
    "    \"first_name\" : \"First\",\n",
    "    \"last_name\" : \"Last\",\n",
    "    \"password\" : \"1234567\",\n",
    "    \"phone\" : \"1234567890\",\n",
    "    \"email\" : \"foo.bar@bar.foo\",\n",
    "    \"dob\" : \"2020-01-02\"\n",
    "}\n",
    "\n",
    "result = requests.post(url,json=info)\n",
    "pprint.pprint(result.json())\n"
   ]
  },
  {
   "cell_type": "code",
   "execution_count": 15,
   "metadata": {},
   "outputs": [
    {
     "name": "stdout",
     "output_type": "stream",
     "text": [
      "400\n"
     ]
    }
   ],
   "source": [
    "import requests\n",
    "import json\n",
    "import pprint\n",
    "\n",
    "url = 'http://express_backend:3000/users/session'\n",
    "header = {'content-type': 'application/json'}\n",
    "from_data = {\n",
    "    \"email\" : \"foo.bar@bar.foo\",\n",
    "    \"password\" : \"1234567890\"\n",
    "}\n",
    "s = requests.session()\n",
    "response = s.post(url, data = from_data, headers = header)\n",
    "print(response.status_code)"
   ]
  },
  {
   "cell_type": "code",
   "execution_count": null,
   "metadata": {},
   "outputs": [],
   "source": []
  },
  {
   "cell_type": "code",
   "execution_count": null,
   "metadata": {},
   "outputs": [],
   "source": []
  }
 ],
 "metadata": {
  "kernelspec": {
   "display_name": "Python 3",
   "language": "python",
   "name": "python3"
  },
  "language_info": {
   "codemirror_mode": {
    "name": "ipython",
    "version": 3
   },
   "file_extension": ".py",
   "mimetype": "text/x-python",
   "name": "python",
   "nbconvert_exporter": "python",
   "pygments_lexer": "ipython3",
   "version": "3.7.6"
  }
 },
 "nbformat": 4,
 "nbformat_minor": 4
}
